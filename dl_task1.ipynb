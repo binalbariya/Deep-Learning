{
  "nbformat": 4,
  "nbformat_minor": 0,
  "metadata": {
    "colab": {
      "name": "dl-task1",
      "provenance": [],
      "collapsed_sections": []
    },
    "kernelspec": {
      "name": "python3",
      "display_name": "Python 3"
    }
  },
  "cells": [
    {
      "cell_type": "code",
      "metadata": {
        "colab": {
          "base_uri": "https://localhost:8080/"
        },
        "id": "-kasN6OC2pIz",
        "outputId": "26349f43-8bd5-43fb-d4f0-fa1a178b2dbc"
      },
      "source": [
        "print(\"Binal Manoj Bariya (20MAI0075)\")\r\n",
        "print(\"Github Link :https://github.com/binalbariya/Deep-Learning\")\r\n"
      ],
      "execution_count": 1,
      "outputs": [
        {
          "output_type": "stream",
          "text": [
            "Binal Manoj Bariya (20MAI0075)\n",
            "Github Link :https://github.com/binalbariya/Deep-Learning\n"
          ],
          "name": "stdout"
        }
      ]
    },
    {
      "cell_type": "code",
      "metadata": {
        "colab": {
          "base_uri": "https://localhost:8080/",
          "height": 302
        },
        "id": "3wVkep9g3QRE",
        "outputId": "cb38d963-a32f-497d-aaf3-f58076f13821"
      },
      "source": [
        "import numpy as np\r\n",
        "import pandas as pd\r\n",
        "import matplotlib.pyplot as plt\r\n",
        "from math import exp\r\n",
        "from random import random\r\n",
        "\r\n",
        "dataset = pd.DataFrame([[1.0,2.0,3.0,0],[2.0,5.0,2.0,0],[3.0,4.0,2.0,0],[1.0,2.0,4.0,0],[4.0,5.0,6.0,1],[7.0,8.0,9.0,1],[6.0,7.0,8.0,1],[3.0,4.0,8.0,1]])\r\n",
        "varnames = [\"Col\"+ str(i) for i in range(3)]\r\n",
        "print(varnames)\r\n",
        "varnames.append(\"target\")\r\n",
        "dataset.columns= varnames\r\n",
        "dataset"
      ],
      "execution_count": 5,
      "outputs": [
        {
          "output_type": "stream",
          "text": [
            "['Col0', 'Col1', 'Col2']\n"
          ],
          "name": "stdout"
        },
        {
          "output_type": "execute_result",
          "data": {
            "text/html": [
              "<div>\n",
              "<style scoped>\n",
              "    .dataframe tbody tr th:only-of-type {\n",
              "        vertical-align: middle;\n",
              "    }\n",
              "\n",
              "    .dataframe tbody tr th {\n",
              "        vertical-align: top;\n",
              "    }\n",
              "\n",
              "    .dataframe thead th {\n",
              "        text-align: right;\n",
              "    }\n",
              "</style>\n",
              "<table border=\"1\" class=\"dataframe\">\n",
              "  <thead>\n",
              "    <tr style=\"text-align: right;\">\n",
              "      <th></th>\n",
              "      <th>Col0</th>\n",
              "      <th>Col1</th>\n",
              "      <th>Col2</th>\n",
              "      <th>target</th>\n",
              "    </tr>\n",
              "  </thead>\n",
              "  <tbody>\n",
              "    <tr>\n",
              "      <th>0</th>\n",
              "      <td>1.0</td>\n",
              "      <td>2.0</td>\n",
              "      <td>3.0</td>\n",
              "      <td>0</td>\n",
              "    </tr>\n",
              "    <tr>\n",
              "      <th>1</th>\n",
              "      <td>2.0</td>\n",
              "      <td>5.0</td>\n",
              "      <td>2.0</td>\n",
              "      <td>0</td>\n",
              "    </tr>\n",
              "    <tr>\n",
              "      <th>2</th>\n",
              "      <td>3.0</td>\n",
              "      <td>4.0</td>\n",
              "      <td>2.0</td>\n",
              "      <td>0</td>\n",
              "    </tr>\n",
              "    <tr>\n",
              "      <th>3</th>\n",
              "      <td>1.0</td>\n",
              "      <td>2.0</td>\n",
              "      <td>4.0</td>\n",
              "      <td>0</td>\n",
              "    </tr>\n",
              "    <tr>\n",
              "      <th>4</th>\n",
              "      <td>4.0</td>\n",
              "      <td>5.0</td>\n",
              "      <td>6.0</td>\n",
              "      <td>1</td>\n",
              "    </tr>\n",
              "    <tr>\n",
              "      <th>5</th>\n",
              "      <td>7.0</td>\n",
              "      <td>8.0</td>\n",
              "      <td>9.0</td>\n",
              "      <td>1</td>\n",
              "    </tr>\n",
              "    <tr>\n",
              "      <th>6</th>\n",
              "      <td>6.0</td>\n",
              "      <td>7.0</td>\n",
              "      <td>8.0</td>\n",
              "      <td>1</td>\n",
              "    </tr>\n",
              "    <tr>\n",
              "      <th>7</th>\n",
              "      <td>3.0</td>\n",
              "      <td>4.0</td>\n",
              "      <td>8.0</td>\n",
              "      <td>1</td>\n",
              "    </tr>\n",
              "  </tbody>\n",
              "</table>\n",
              "</div>"
            ],
            "text/plain": [
              "   Col0  Col1  Col2  target\n",
              "0   1.0   2.0   3.0       0\n",
              "1   2.0   5.0   2.0       0\n",
              "2   3.0   4.0   2.0       0\n",
              "3   1.0   2.0   4.0       0\n",
              "4   4.0   5.0   6.0       1\n",
              "5   7.0   8.0   9.0       1\n",
              "6   6.0   7.0   8.0       1\n",
              "7   3.0   4.0   8.0       1"
            ]
          },
          "metadata": {
            "tags": []
          },
          "execution_count": 5
        }
      ]
    },
    {
      "cell_type": "code",
      "metadata": {
        "colab": {
          "base_uri": "https://localhost:8080/",
          "height": 279
        },
        "id": "TxS-RMqt3zFl",
        "outputId": "52121f3a-2e35-4c27-de61-3e338a367b0a"
      },
      "source": [
        "plt.scatter(np.array(dataset.iloc[0:4,0]), np.array(dataset.iloc[:4,2]), marker='o', label='0')\r\n",
        "plt.scatter(np.array(dataset.iloc[4:,0]), np.array(dataset.iloc[4:,2]), marker='x', label='1')\r\n",
        "plt.xlabel('Col1')\r\n",
        "plt.ylabel('Col2')\r\n",
        "plt.legend()\r\n",
        "plt.show()"
      ],
      "execution_count": 6,
      "outputs": [
        {
          "output_type": "display_data",
          "data": {
            "image/png": "[encoded data removed]",
            "text/plain": [
              "<Figure size 432x288 with 1 Axes>"
            ]
          },
          "metadata": {
            "tags": [],
            "needs_background": "light"
          }
        }
      ]
    },
    {
      "cell_type": "code",
      "metadata": {
        "colab": {
          "base_uri": "https://localhost:8080/"
        },
        "id": "O2vxQp0731JT",
        "outputId": "1b919f73-830f-4268-c38f-423d31370d0c"
      },
      "source": [
        "dataset.dtypes"
      ],
      "execution_count": 7,
      "outputs": [
        {
          "output_type": "execute_result",
          "data": {
            "text/plain": [
              "Col0      float64\n",
              "Col1      float64\n",
              "Col2      float64\n",
              "target      int64\n",
              "dtype: object"
            ]
          },
          "metadata": {
            "tags": []
          },
          "execution_count": 7
        }
      ]
    },
    {
      "cell_type": "code",
      "metadata": {
        "id": "DpryHO6j3_qM"
      },
      "source": [
        "\r\n",
        "# Initialize a network\r\n",
        "def initialize_network(n_inputs, n_hidden, n_outputs):\r\n",
        "\tnetwork = list()\r\n",
        "\thidden_layer = [{'weights':[random() for i in range(n_inputs + 1)]} for i in range(n_hidden)]\r\n",
        "\tnetwork.append(hidden_layer)\r\n",
        "\toutput_layer = [{'weights':[random() for i in range(n_hidden + 1)]} for i in range(n_outputs)]\r\n",
        "\tnetwork.append(output_layer)\r\n",
        "\treturn network"
      ],
      "execution_count": 8,
      "outputs": []
    },
    {
      "cell_type": "code",
      "metadata": {
        "id": "KKBQ8xsf4J6W"
      },
      "source": [
        "# Calculate neuron activation for an input\r\n",
        "def activate(weights, inputs):\r\n",
        "\tactivation = weights[-1]\r\n",
        "\tfor i in range(len(weights)-1):\r\n",
        "\t\tactivation += weights[i] * inputs[i]\r\n",
        "\treturn activation"
      ],
      "execution_count": 9,
      "outputs": []
    },
    {
      "cell_type": "code",
      "metadata": {
        "id": "KkhnhlC24QI9"
      },
      "source": [
        "\r\n",
        "# Transfer neuron activation\r\n",
        "def transfer(activation):\r\n",
        "\treturn 1.0 / (1.0 + exp(-activation))"
      ],
      "execution_count": 10,
      "outputs": []
    },
    {
      "cell_type": "code",
      "metadata": {
        "id": "N0RgAWMC4Sg6"
      },
      "source": [
        "# Forward propagate input to a network output\r\n",
        "def forward_propagate(network, row):\r\n",
        "\tinputs = row\r\n",
        "\tfor layer in network:\r\n",
        "\t\tnew_inputs = []\r\n",
        "\t\tfor neuron in layer:\r\n",
        "\t\t\tactivation = activate(neuron['weights'], inputs)\r\n",
        "\t\t\tneuron['output'] = transfer(activation)\r\n",
        "\t\t\tnew_inputs.append(neuron['output'])\r\n",
        "\t\tinputs = new_inputs\r\n",
        "\treturn inputs\r\n"
      ],
      "execution_count": 11,
      "outputs": []
    },
    {
      "cell_type": "code",
      "metadata": {
        "id": "q1taqLx75hJM"
      },
      "source": [
        "# Calculate the derivative of an neuron output\r\n",
        "def transfer_derivative(output):\r\n",
        "\treturn output * (1.0 - output)\r\n"
      ],
      "execution_count": 22,
      "outputs": []
    },
    {
      "cell_type": "code",
      "metadata": {
        "id": "DakpqOEC5mH9"
      },
      "source": [
        "# Backpropagate error and store in neurons\r\n",
        "def backward_propagate_error(network, expected):\r\n",
        "\tfor i in reversed(range(len(network))):\r\n",
        "\t\tlayer = network[i]\r\n",
        "\t\terrors = list()\r\n",
        "\t\tif i != len(network)-1:\r\n",
        "\t\t\tfor j in range(len(layer)):\r\n",
        "\t\t\t\terror = 0.0\r\n",
        "\t\t\t\tfor neuron in network[i + 1]:\r\n",
        "\t\t\t\t\terror += (neuron['weights'][j] * neuron['delta'])\r\n",
        "\t\t\t\terrors.append(error)\r\n",
        "\t\telse:\r\n",
        "\t\t\tfor j in range(len(layer)):\r\n",
        "\t\t\t\tneuron = layer[j]\r\n",
        "\t\t\t\terrors.append(expected[j] - neuron['output'])\r\n",
        "\t\tfor j in range(len(layer)):\r\n",
        "\t\t\tneuron = layer[j]\r\n",
        "\t\t\tneuron['delta'] = errors[j] * transfer_derivative(neuron['output'])\r\n"
      ],
      "execution_count": 23,
      "outputs": []
    },
    {
      "cell_type": "code",
      "metadata": {
        "id": "EgPa2wmt4VuS"
      },
      "source": [
        "\r\n",
        "# Update network weights with error\r\n",
        "def update_weights(network, row, l_rate):\r\n",
        "\tfor i in range(len(network)):\r\n",
        "\t\tinputs = row[:-1]\r\n",
        "\t\tif i != 0:\r\n",
        "\t\t\tinputs = [neuron['output'] for neuron in network[i - 1]]\r\n",
        "\t\tfor neuron in network[i]:\r\n",
        "\t\t\tfor j in range(len(inputs)):\r\n",
        "\t\t\t\tneuron['weights'][j] += l_rate * neuron['delta'] * inputs[j]\r\n",
        "\t\t\tneuron['weights'][-1] += l_rate * neuron['delta']\r\n"
      ],
      "execution_count": 24,
      "outputs": []
    },
    {
      "cell_type": "code",
      "metadata": {
        "id": "3vAGai4A497f"
      },
      "source": [
        "# Train a network for a fixed number of epochs\r\n",
        "def train_network(network, train, l_rate, n_epoch, n_outputs):\r\n",
        "\tfor epoch in range(n_epoch):\r\n",
        "\t\tsum_error = 0\r\n",
        "\t\tfor row in train:\r\n",
        "\t\t\toutputs = forward_propagate(network, row)\r\n",
        "\t\t\texpected = [0 for i in range(n_outputs)]\r\n",
        "\t\t\texpected[row[-1]] = 1\r\n",
        "\t\t\tsum_error += sum([(expected[i]-outputs[i])**2 for i in range(len(expected))])\r\n",
        "\t\t\tbackward_propagate_error(network, expected)\r\n",
        "\t\t\tupdate_weights(network, row, l_rate)\r\n",
        "\t\tprint('>epoch=%d, lrate=%.3f, error=%.3f' % (epoch, l_rate, sum_error))\r\n",
        "\r\n"
      ],
      "execution_count": 25,
      "outputs": []
    },
    {
      "cell_type": "code",
      "metadata": {
        "colab": {
          "base_uri": "https://localhost:8080/"
        },
        "id": "VZ53ahy35DRZ",
        "outputId": "e9417bc3-9502-4e39-a514-c497ce8b36de"
      },
      "source": [
        "dataset = [[1.0,2.0,3.0,0],[2.0,5.0,2.0,0],[3.0,4.0,2.0,0],[1.0,2.0,4.0,0],[4.0,5.0,6.0,1],[7.0,8.0,9.0,1],[6.0,7.0,8.0,1],[3.0,4.0,8.0,1]]\r\n",
        "\r\n",
        "\r\n",
        "n_inputs = len(dataset[0]) - 1\r\n",
        "n_outputs = len(set([row[-1] for row in dataset]))\r\n",
        "network = initialize_network(n_inputs, 2, n_outputs)\r\n",
        "train_network(network, dataset, 0.5, 20, n_outputs)\r\n",
        "for layer in network:\r\n",
        "\tprint(layer)"
      ],
      "execution_count": 29,
      "outputs": [
        {
          "output_type": "stream",
          "text": [
            ">epoch=0, lrate=0.500, error=6.041\n",
            ">epoch=1, lrate=0.500, error=5.319\n",
            ">epoch=2, lrate=0.500, error=4.705\n",
            ">epoch=3, lrate=0.500, error=4.428\n",
            ">epoch=4, lrate=0.500, error=4.357\n",
            ">epoch=5, lrate=0.500, error=4.345\n",
            ">epoch=6, lrate=0.500, error=4.345\n",
            ">epoch=7, lrate=0.500, error=4.347\n",
            ">epoch=8, lrate=0.500, error=4.348\n",
            ">epoch=9, lrate=0.500, error=4.349\n",
            ">epoch=10, lrate=0.500, error=4.349\n",
            ">epoch=11, lrate=0.500, error=4.349\n",
            ">epoch=12, lrate=0.500, error=4.350\n",
            ">epoch=13, lrate=0.500, error=4.350\n",
            ">epoch=14, lrate=0.500, error=4.350\n",
            ">epoch=15, lrate=0.500, error=4.350\n",
            ">epoch=16, lrate=0.500, error=4.350\n",
            ">epoch=17, lrate=0.500, error=4.350\n",
            ">epoch=18, lrate=0.500, error=4.350\n",
            ">epoch=19, lrate=0.500, error=4.350\n",
            "[{'weights': [0.9685497076228938, 0.6301726109750012, 0.941223126923701, 0.3395111931489441], 'output': 0.9999983181814939, 'delta': 5.669441999297473e-08}, {'weights': [0.6455675866675986, 0.9005446105796303, 0.6801820570984476, 0.7478155847006273], 'output': 0.9999919364385803, 'delta': 1.3492995837344538e-07}]\n",
            "[{'weights': [-0.6963859270403978, 0.13243781225210952, 0.17941140121587776], 'output': 0.4453361917336357, 'delta': -0.11000332463744272}, {'weights': [-0.27988111804263566, 0.39451823533465646, 0.2697159409422905], 'output': 0.5546121378715023, 'delta': 0.11001860264562155}]\n"
          ],
          "name": "stdout"
        }
      ]
    },
    {
      "cell_type": "code",
      "metadata": {
        "id": "XPIZavwo8QF-"
      },
      "source": [
        "# Make a prediction with a network\r\n",
        "def predict(network, row):\r\n",
        "\toutputs = forward_propagate(network, row)\r\n",
        "\treturn outputs.index(max(outputs))"
      ],
      "execution_count": 30,
      "outputs": []
    },
    {
      "cell_type": "code",
      "metadata": {
        "colab": {
          "base_uri": "https://localhost:8080/"
        },
        "id": "LxnNRx4y8u_g",
        "outputId": "28dcb527-99b4-4370-b5c8-57c29740c931"
      },
      "source": [
        "dataset = [[1.0,2.0,3.0,0],\r\n",
        "           [5.0,3.0,7,0,1],\r\n",
        "           [6.0,1.0,9.0,0]]\r\n",
        "\r\n",
        "network = [[{'weights': [-1.482313569067226, 1.8308790073202204, 1.078381922048799]}, {'weights': [0.23244990332399884, 0.3621998343835864, 0.40289821191094327]}],\r\n",
        "\t[{'weights': [2.5001872433501404, 0.7887233511355132, -1.1026649757805829]}, {'weights': [-2.429350576245497, 0.8357651039198697, 1.0699217181280656]}]]\r\n",
        "for row in dataset:\r\n",
        "\tprediction = predict(network, row)\r\n",
        "\tprint('Expected=%d, Got=%d' % (row[-1], prediction))"
      ],
      "execution_count": 35,
      "outputs": [
        {
          "output_type": "stream",
          "text": [
            "Expected=0, Got=0\n",
            "Expected=1, Got=1\n",
            "Expected=0, Got=1\n"
          ],
          "name": "stdout"
        }
      ]
    },
    {
      "cell_type": "code",
      "metadata": {
        "id": "JqCFdNeH9GHu"
      },
      "source": [
        ""
      ],
      "execution_count": null,
      "outputs": []
    }
  ]
}
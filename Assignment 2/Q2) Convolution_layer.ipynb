{
 "cells": [
  {
   "cell_type": "markdown",
   "metadata": {},
   "source": [
    "# Github link: https://github.com/binalbariya/Deep-Learning/edit/main/Assignment%202/Q2)%20Convolution_layer.ipynb"
   ]
  },
  {
   "cell_type": "code",
   "execution_count": 141,
   "metadata": {},
   "outputs": [],
   "source": [
    "# print(\"BInal Manoj Bariya 20MAI0075\")"
   ]
  },
  {
   "cell_type": "markdown",
   "metadata": {},
   "source": [
    "# 1) for taking value of stride as 1 and kernel size be 3*3 , image is taken from my local computer"
   ]
  },
  {
   "cell_type": "code",
   "execution_count": 152,
   "metadata": {},
   "outputs": [],
   "source": [
    "import numpy as np\n",
    "import pandas as pd\n",
    "from keras.models import Sequential\n",
    "from keras.layers.convolutional import Conv2D\n",
    "import cv2\n",
    "from matplotlib import pyplot as plt\n",
    "\n"
   ]
  },
  {
   "cell_type": "code",
   "execution_count": 153,
   "metadata": {},
   "outputs": [],
   "source": [
    "X.shape\n",
    "filter_size=3\n",
    "stride=1"
   ]
  },
  {
   "cell_type": "code",
   "execution_count": 154,
   "metadata": {},
   "outputs": [],
   "source": [
    "def processImage(image):\n",
    "    \n",
    "    image = cv2.imread(image) \n",
    "    image = cv2.cvtColor(src=image, code=cv2.COLOR_BGR2GRAY) \n",
    "    return image"
   ]
  },
  {
   "cell_type": "code",
   "execution_count": 155,
   "metadata": {},
   "outputs": [],
   "source": [
    "\n",
    "# import skimage.data\n",
    "\n",
    "# X = skimage.color.rgb2gray(img)\n",
    "# X = X.astype('float32')/255.0"
   ]
  },
  {
   "cell_type": "code",
   "execution_count": 156,
   "metadata": {},
   "outputs": [],
   "source": [
    "def convolve2D(image, kernel, padding=0, strides=1):\n",
    "    # Cross Correlation\n",
    "    kernel = np.flipud(np.fliplr(kernel))\n",
    "\n",
    "    # Gather Shapes of Kernel + Image + Padding\n",
    "    xKernShape = kernel.shape[0]\n",
    "    yKernShape = kernel.shape[1]\n",
    "    xImgShape = image.shape[0]\n",
    "    yImgShape = image.shape[1]\n",
    "\n",
    "    # Shape of Output Convolution\n",
    "    xOutput = int(((xImgShape - xKernShape + 2 * padding) / strides) + 1)\n",
    "    yOutput = int(((yImgShape - yKernShape + 2 * padding) / strides) + 1)\n",
    "    output = np.zeros((xOutput, yOutput))\n",
    "\n",
    "    # Apply Equal Padding to All Sides\n",
    "    if padding != 0:\n",
    "        imagePadded = np.zeros((image.shape[0] + padding*2, image.shape[1] + padding*2))\n",
    "        imagePadded[int(padding):int(-1 * padding), int(padding):int(-1 * padding)] = image\n",
    "        print(imagePadded)\n",
    "    else:\n",
    "        imagePadded = image\n",
    "\n",
    "    # Iterate through image\n",
    "    for y in range(image.shape[1]):\n",
    "        # Exit Convolution\n",
    "        if y > image.shape[1] - yKernShape:\n",
    "            break\n",
    "        # Only Convolve if y has gone down by the specified Strides\n",
    "        if y % strides == 0:\n",
    "            for x in range(image.shape[0]):\n",
    "                # Go to next row once kernel is out of bounds\n",
    "                if x > image.shape[0] - xKernShape:\n",
    "                    break\n",
    "                try:\n",
    "                    # Only Convolve if x has moved by the specified Strides\n",
    "                    if x % strides == 0:\n",
    "                        output[x, y] = (kernel * imagePadded[x: x + xKernShape, y: y + yKernShape]).sum()\n",
    "                except:\n",
    "                    break\n",
    "\n",
    "    return output\n"
   ]
  },
  {
   "cell_type": "code",
   "execution_count": 157,
   "metadata": {},
   "outputs": [
    {
     "data": {
      "text/plain": [
       "True"
      ]
     },
     "execution_count": 157,
     "metadata": {},
     "output_type": "execute_result"
    }
   ],
   "source": [
    "image = processImage(r'C:\\Users\\Binal Bariya\\Desktop\\INSO2694.jpg')\n",
    "\n",
    "kernel = np.array([[1, 1, 1], [1, 1, 1], [1, 1, 1]])\n",
    "# Convolve and Save Output\n",
    "output = convolve2D(image, kernel)\n",
    "cv2.imwrite('2DConvolved.jpg', output)"
   ]
  },
  {
   "cell_type": "code",
   "execution_count": null,
   "metadata": {},
   "outputs": [],
   "source": []
  },
  {
   "cell_type": "code",
   "execution_count": 158,
   "metadata": {},
   "outputs": [],
   "source": [
    "# def convolution(image, filt, s=1):\n",
    "#     '''\n",
    "#     Confolves `filt` over `image` using stride `s`\n",
    "#     '''\n",
    "#     (n_f, n_c_f, f, _) = filt.shape # filter dimensions\n",
    "#     n_c, in_dim, _ = image.shape # image dimensions\n",
    "    \n",
    "#     out_dim = int((in_dim - f)/s)+1 # calculate output dimensions\n",
    "    \n",
    "#     # ensure that the filter dimensions match the dimensions of the input image\n",
    "#     assert n_c == n_c_f, \"Dimensions of filter must match dimensions of input image\"\n",
    "    \n",
    "#     out = np.zeros((n_f,out_dim,out_dim)) # create the matrix to hold the values of the convolution operation\n",
    "    \n",
    "#     # convolve each filter over the image\n",
    "#     for curr_f in range(n_f):\n",
    "#         curr_y = out_y = 0\n",
    "#         # move filter vertically across the image\n",
    "#         while curr_y + f <= in_dim:\n",
    "#             curr_x = out_x = 0\n",
    "#             # move filter horizontally across the image \n",
    "#             while curr_x + f <= in_dim:\n",
    "#                 # perform the convolution operation and add the bias\n",
    "#                 out[curr_f, out_y, out_x] = np.sum(filt[curr_f] * image[:,curr_y:curr_y+f, curr_x:curr_x+f]) \n",
    "#                 curr_x += s\n",
    "#                 out_x += 1\n",
    "#             curr_y += s\n",
    "#             out_y += 1\n",
    "        \n",
    "#     return out"
   ]
  },
  {
   "cell_type": "code",
   "execution_count": 159,
   "metadata": {},
   "outputs": [],
   "source": [
    "# convolution(X,kernel)"
   ]
  },
  {
   "cell_type": "code",
   "execution_count": 160,
   "metadata": {},
   "outputs": [],
   "source": [
    "# sum=0\n",
    "# for i in range(0,X.shape[0],stride):\n",
    "#     for j in range(0,X.shape[1],stride):\n",
    "#         for k in range(3):\n",
    "#             for l in range(3):\n",
    "#                 sum+=X[k:k+window_size][l]*kernel[k][l]\n",
    "# X[i-1][j-1] = sum\n"
   ]
  },
  {
   "cell_type": "code",
   "execution_count": 161,
   "metadata": {},
   "outputs": [],
   "source": [
    "# # import the necessary packages\n",
    "# !pip install imutils\n",
    "# import imutils\n",
    "# def pyramid(image, scale=1.5, minSize=(30, 30)):\n",
    "# \tyield image\n",
    "# \twhile True:\n",
    "# \t\tw = int(image.shape[1] / scale)\n",
    "# \t\timage = imutils.resize(image, width=w)\n",
    "# \t\tif image.shape[0] < minSize[1] or image.shape[1] < minSize[0]:\n",
    "# \t\t\tbreak\n",
    "# \t\tyield image\n",
    "\n",
    "# def sliding_window(image, stepSize, windowSize):\n",
    "# \t# slide a window across the image\n",
    "# \tfor y in range(0, image.shape[0], stepSize):\n",
    "# \t\tfor x in range(0, image.shape[1], stepSize):\n",
    "# \t\t\t# yield the current window\n",
    "# \t\t\tyield (x, y, image[y:y + windowSize[1], x:x + windowSize[0]])\n"
   ]
  },
  {
   "cell_type": "code",
   "execution_count": null,
   "metadata": {},
   "outputs": [],
   "source": []
  },
  {
   "cell_type": "code",
   "execution_count": null,
   "metadata": {},
   "outputs": [],
   "source": []
  },
  {
   "cell_type": "markdown",
   "metadata": {},
   "source": [
    "# 2)Taking stride as 2 and kernel size as 5*5"
   ]
  },
  {
   "cell_type": "code",
   "execution_count": 162,
   "metadata": {},
   "outputs": [],
   "source": [
    "stride=2\n",
    "filter_size=5\n"
   ]
  },
  {
   "cell_type": "code",
   "execution_count": 163,
   "metadata": {},
   "outputs": [
    {
     "data": {
      "text/plain": [
       "True"
      ]
     },
     "execution_count": 163,
     "metadata": {},
     "output_type": "execute_result"
    }
   ],
   "source": [
    "kernel = np.array([[1, 1, 1,1,1], [1, 1, 1,1,1], [1, 1, 1,1,1],[1, 1, 1,1,1], [1, 1, 1,1,1]])\n",
    "# Convolve and Save Output\n",
    "output2 = convolve2D(image, kernel,strides=2)\n",
    "cv2.imwrite('2DConvolved_2.jpg', output2)"
   ]
  },
  {
   "cell_type": "code",
   "execution_count": 164,
   "metadata": {},
   "outputs": [
    {
     "data": {
      "text/plain": [
       "array([[ 819.,    0.,  834., ...,    0.,  575.,    0.],\n",
       "       [   0.,    0.,    0., ...,    0.,    0.,    0.],\n",
       "       [ 792.,    0.,  806., ...,    0.,  552.,    0.],\n",
       "       ...,\n",
       "       [   0.,    0.,    0., ...,    0.,    0.,    0.],\n",
       "       [2872.,    0., 3106., ...,    0., 4699.,    0.],\n",
       "       [   0.,    0.,    0., ...,    0.,    0.,    0.]])"
      ]
     },
     "execution_count": 164,
     "metadata": {},
     "output_type": "execute_result"
    }
   ],
   "source": [
    "output2"
   ]
  },
  {
   "cell_type": "markdown",
   "metadata": {},
   "source": [
    "# 3) Taking stride as 1 but making an image padded with 0 padding"
   ]
  },
  {
   "cell_type": "code",
   "execution_count": 165,
   "metadata": {},
   "outputs": [],
   "source": [
    "import numpy as np\n",
    "import pandas as pd\n",
    "from keras.models import Sequential\n",
    "from keras.layers.convolutional import Conv2D\n",
    "import cv2\n",
    "from matplotlib import pyplot as plt\n",
    "\n"
   ]
  },
  {
   "cell_type": "code",
   "execution_count": 166,
   "metadata": {},
   "outputs": [],
   "source": [
    "def processImage(image):\n",
    "    \n",
    "    image = cv2.imread(image) \n",
    "    image = cv2.cvtColor(src=image, code=cv2.COLOR_BGR2GRAY) \n",
    "    return image"
   ]
  },
  {
   "cell_type": "code",
   "execution_count": 167,
   "metadata": {},
   "outputs": [],
   "source": [
    "def convolve2D(image, kernel, padding=0, strides=1):\n",
    "    # Cross Correlation\n",
    "    kernel = np.flipud(np.fliplr(kernel))\n",
    "\n",
    "    # Gather Shapes of Kernel + Image + Padding\n",
    "    xKernShape = kernel.shape[0]\n",
    "    yKernShape = kernel.shape[1]\n",
    "    xImgShape = image.shape[0]\n",
    "    yImgShape = image.shape[1]\n",
    "\n",
    "    # Shape of Output Convolution\n",
    "    xOutput = int(((xImgShape - xKernShape + 2 * padding) / strides) + 1)\n",
    "    yOutput = int(((yImgShape - yKernShape + 2 * padding) / strides) + 1)\n",
    "    output = np.zeros((xOutput, yOutput))\n",
    "\n",
    "    # Apply Equal Padding to All Sides\n",
    "    if padding != 0:\n",
    "        imagePadded = np.zeros((image.shape[0] + padding*2, image.shape[1] + padding*2))\n",
    "        imagePadded[int(padding):int(-1 * padding), int(padding):int(-1 * padding)] = image\n",
    "        print(imagePadded)\n",
    "    else:\n",
    "        imagePadded = image\n",
    "\n",
    "    # Iterate through image\n",
    "    for y in range(image.shape[1]):\n",
    "        # Exit Convolution\n",
    "        if y > image.shape[1] - yKernShape:\n",
    "            break\n",
    "        # Only Convolve if y has gone down by the specified Strides\n",
    "        if y % strides == 0:\n",
    "            for x in range(image.shape[0]):\n",
    "                # Go to next row once kernel is out of bounds\n",
    "                if x > image.shape[0] - xKernShape:\n",
    "                    break\n",
    "                try:\n",
    "                    # Only Convolve if x has moved by the specified Strides\n",
    "                    if x % strides == 0:\n",
    "                        output[x, y] = (kernel * imagePadded[x: x + xKernShape, y: y + yKernShape]).sum()\n",
    "                except:\n",
    "                    break\n",
    "\n",
    "    return output\n"
   ]
  },
  {
   "cell_type": "code",
   "execution_count": 168,
   "metadata": {},
   "outputs": [
    {
     "data": {
      "text/plain": [
       "True"
      ]
     },
     "execution_count": 168,
     "metadata": {},
     "output_type": "execute_result"
    }
   ],
   "source": [
    "image = processImage(r'C:\\Users\\Binal Bariya\\Desktop\\INSO2694.jpg')\n",
    "kernel = np.array([[1, 1, 1], [1, 1, 1], [1, 1, 1]])\n",
    "# Convolve and Save Output\n",
    "output3 = convolve2D(image, kernel, padding=0)\n",
    "cv2.imwrite('2DConvolved_3.jpg', output3)"
   ]
  },
  {
   "cell_type": "code",
   "execution_count": 169,
   "metadata": {},
   "outputs": [
    {
     "data": {
      "text/plain": [
       "array([[ 293.,  295.,  299., ...,  453.,  451.,  444.],\n",
       "       [ 294.,  296.,  300., ...,  440.,  426.,  407.],\n",
       "       [ 293.,  294.,  297., ...,  429.,  405.,  378.],\n",
       "       ...,\n",
       "       [ 762.,  782.,  807., ..., 1259., 1238., 1237.],\n",
       "       [ 772.,  788.,  809., ..., 1350., 1332., 1336.],\n",
       "       [ 794.,  804.,  816., ..., 1405., 1401., 1416.]])"
      ]
     },
     "execution_count": 169,
     "metadata": {},
     "output_type": "execute_result"
    }
   ],
   "source": [
    "output3"
   ]
  },
  {
   "cell_type": "markdown",
   "metadata": {},
   "source": [
    "# 4) Calculating metrics i.e. entropy between original image and filtered image"
   ]
  },
  {
   "cell_type": "code",
   "execution_count": 170,
   "metadata": {},
   "outputs": [],
   "source": [
    "import skimage.measure    \n",
    "entropy_original_image = skimage.measure.shannon_entropy(image)"
   ]
  },
  {
   "cell_type": "code",
   "execution_count": 171,
   "metadata": {},
   "outputs": [
    {
     "name": "stdout",
     "output_type": "stream",
     "text": [
      "7.360574354742837\n"
     ]
    }
   ],
   "source": [
    "print(entropy_original_image)"
   ]
  },
  {
   "cell_type": "code",
   "execution_count": 172,
   "metadata": {},
   "outputs": [],
   "source": [
    "import skimage.measure    \n",
    "entropy_for_1_stride = skimage.measure.shannon_entropy(output)"
   ]
  },
  {
   "cell_type": "code",
   "execution_count": 173,
   "metadata": {},
   "outputs": [
    {
     "name": "stdout",
     "output_type": "stream",
     "text": [
      "10.460110383691871\n"
     ]
    }
   ],
   "source": [
    "print(entropy_for_1_stride)"
   ]
  },
  {
   "cell_type": "code",
   "execution_count": 174,
   "metadata": {},
   "outputs": [],
   "source": [
    "import skimage.measure    \n",
    "entropy_for_2_stride = skimage.measure.shannon_entropy(output2)"
   ]
  },
  {
   "cell_type": "code",
   "execution_count": 175,
   "metadata": {},
   "outputs": [
    {
     "name": "stdout",
     "output_type": "stream",
     "text": [
      "3.7234159534322155\n"
     ]
    }
   ],
   "source": [
    "print(entropy_for_2_stride)"
   ]
  },
  {
   "cell_type": "code",
   "execution_count": 176,
   "metadata": {},
   "outputs": [],
   "source": [
    "import skimage.measure    \n",
    "entropy_for_0_padding = skimage.measure.shannon_entropy(output3)"
   ]
  },
  {
   "cell_type": "code",
   "execution_count": 177,
   "metadata": {},
   "outputs": [
    {
     "name": "stdout",
     "output_type": "stream",
     "text": [
      "10.460110383691871\n"
     ]
    }
   ],
   "source": [
    "print(entropy_for_0_padding)"
   ]
  },
  {
   "cell_type": "code",
   "execution_count": null,
   "metadata": {},
   "outputs": [],
   "source": []
  }
 ],
 "metadata": {
  "kernelspec": {
   "display_name": "Python 3",
   "language": "python",
   "name": "python3"
  },
  "language_info": {
   "codemirror_mode": {
    "name": "ipython",
    "version": 3
   },
   "file_extension": ".py",
   "mimetype": "text/x-python",
   "name": "python",
   "nbconvert_exporter": "python",
   "pygments_lexer": "ipython3",
   "version": "3.7.6"
  }
 },
 "nbformat": 4,
 "nbformat_minor": 4
}

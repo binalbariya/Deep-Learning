{
  "nbformat": 4,
  "nbformat_minor": 0,
  "metadata": {
    "colab": {
      "name": "LSTM.ipynb",
      "provenance": [],
      "collapsed_sections": [],
      "toc_visible": true
    },
    "kernelspec": {
      "display_name": "Python 3",
      "name": "python3"
    },
    "language_info": {
      "name": "python"
    },
    "accelerator": "GPU"
  },
  "cells": [
    {
      "cell_type": "markdown",
      "metadata": {
        "id": "BrLiyHnMK6gk"
      },
      "source": [
        "# Github Link: https://github.com/binalbariya/Deep-Learning/blob/main/Assignment%205/LSTM.ipynb"
      ]
    },
    {
      "cell_type": "markdown",
      "metadata": {
        "id": "I4mAHzlKMcAx"
      },
      "source": [
        "#This is for implementing LSTM using keras for Text Generation."
      ]
    },
    {
      "cell_type": "code",
      "metadata": {
        "id": "uURVuWqRK92n"
      },
      "source": [
        "# importing essential libraries\n",
        "import numpy as np\n",
        "from keras.models import Sequential\n",
        "from keras.layers import Dense\n",
        "from keras.layers import Dropout\n",
        "from keras.layers import LSTM\n",
        "from keras.utils import np_utils"
      ],
      "execution_count": 1,
      "outputs": []
    },
    {
      "cell_type": "markdown",
      "metadata": {
        "id": "WW2SdsstLch2"
      },
      "source": [
        "\n",
        "My input file will be a section of a play from the playwright genius Shakespeare. I will be using a monologue from Othello."
      ]
    },
    {
      "cell_type": "code",
      "metadata": {
        "id": "PDYJGOBKLQPW"
      },
      "source": [
        "#Firstly formatting the input_file so that it can be well understood by keras\n",
        "\n",
        "#Read the data, turn it into lower case\n",
        "data = open(\"input_file.txt\").read().lower()\n"
      ],
      "execution_count": 2,
      "outputs": []
    },
    {
      "cell_type": "code",
      "metadata": {
        "colab": {
          "base_uri": "https://localhost:8080/",
          "height": 0
        },
        "id": "Jvej6W2PLxUl",
        "outputId": "92f3fe4d-85cf-4ee5-8210-7c2e3f758f55"
      },
      "source": [
        "#This get the set of characters used in the data and sorts them\n",
        "chars = sorted(list(set(data)))\n",
        "chars"
      ],
      "execution_count": 3,
      "outputs": [
        {
          "output_type": "execute_result",
          "data": {
            "text/plain": [
              "['\\n',\n",
              " ' ',\n",
              " \"'\",\n",
              " ',',\n",
              " '-',\n",
              " '.',\n",
              " ';',\n",
              " 'a',\n",
              " 'b',\n",
              " 'c',\n",
              " 'd',\n",
              " 'e',\n",
              " 'f',\n",
              " 'g',\n",
              " 'h',\n",
              " 'i',\n",
              " 'k',\n",
              " 'l',\n",
              " 'm',\n",
              " 'n',\n",
              " 'o',\n",
              " 'p',\n",
              " 'q',\n",
              " 'r',\n",
              " 's',\n",
              " 't',\n",
              " 'u',\n",
              " 'v',\n",
              " 'w',\n",
              " 'y']"
            ]
          },
          "metadata": {
            "tags": []
          },
          "execution_count": 3
        }
      ]
    },
    {
      "cell_type": "code",
      "metadata": {
        "colab": {
          "base_uri": "https://localhost:8080/",
          "height": 0
        },
        "id": "mFamjcDsL895",
        "outputId": "2a0d5fed-cbc3-4da8-91c8-171fcf14840d"
      },
      "source": [
        "#Total number of characters used in the data\n",
        "totalChars = len(data)\n",
        "totalChars"
      ],
      "execution_count": 4,
      "outputs": [
        {
          "output_type": "execute_result",
          "data": {
            "text/plain": [
              "1860"
            ]
          },
          "metadata": {
            "tags": []
          },
          "execution_count": 4
        }
      ]
    },
    {
      "cell_type": "code",
      "metadata": {
        "colab": {
          "base_uri": "https://localhost:8080/",
          "height": 0
        },
        "id": "pm9zsqknMAls",
        "outputId": "b20bfb01-d6aa-47d5-bec9-4cb2971fa4b6"
      },
      "source": [
        "#Number of unique chars\n",
        "numberOfUniqueChars = len(chars)\n",
        "numberOfUniqueChars"
      ],
      "execution_count": 5,
      "outputs": [
        {
          "output_type": "execute_result",
          "data": {
            "text/plain": [
              "30"
            ]
          },
          "metadata": {
            "tags": []
          },
          "execution_count": 5
        }
      ]
    },
    {
      "cell_type": "markdown",
      "metadata": {
        "id": "KkB7UMJ2MWVY"
      },
      "source": [
        "create a dictionary of each character so it can be easily represented"
      ]
    },
    {
      "cell_type": "code",
      "metadata": {
        "colab": {
          "base_uri": "https://localhost:8080/",
          "height": 0
        },
        "id": "AePqvrbMMDFn",
        "outputId": "e34dc5eb-ec4c-4a5c-b1b8-5df7e993a188"
      },
      "source": [
        "#This allows for characters to be represented by numbers\n",
        "CharsForids = {char:Id for Id, char in enumerate(chars)}\n",
        "CharsForids"
      ],
      "execution_count": 6,
      "outputs": [
        {
          "output_type": "execute_result",
          "data": {
            "text/plain": [
              "{'\\n': 0,\n",
              " ' ': 1,\n",
              " \"'\": 2,\n",
              " ',': 3,\n",
              " '-': 4,\n",
              " '.': 5,\n",
              " ';': 6,\n",
              " 'a': 7,\n",
              " 'b': 8,\n",
              " 'c': 9,\n",
              " 'd': 10,\n",
              " 'e': 11,\n",
              " 'f': 12,\n",
              " 'g': 13,\n",
              " 'h': 14,\n",
              " 'i': 15,\n",
              " 'k': 16,\n",
              " 'l': 17,\n",
              " 'm': 18,\n",
              " 'n': 19,\n",
              " 'o': 20,\n",
              " 'p': 21,\n",
              " 'q': 22,\n",
              " 'r': 23,\n",
              " 's': 24,\n",
              " 't': 25,\n",
              " 'u': 26,\n",
              " 'v': 27,\n",
              " 'w': 28,\n",
              " 'y': 29}"
            ]
          },
          "metadata": {
            "tags": []
          },
          "execution_count": 6
        }
      ]
    },
    {
      "cell_type": "code",
      "metadata": {
        "colab": {
          "base_uri": "https://localhost:8080/",
          "height": 0
        },
        "id": "LXKAcdRd9i9f",
        "outputId": "ac4b03b1-99ad-4ed0-97f3-9b87df86dd7b"
      },
      "source": [
        "#This is the opposite to the above\n",
        "idsForChars = {Id:char for Id, char in enumerate(chars)}\n",
        "idsForChars"
      ],
      "execution_count": 7,
      "outputs": [
        {
          "output_type": "execute_result",
          "data": {
            "text/plain": [
              "{0: '\\n',\n",
              " 1: ' ',\n",
              " 2: \"'\",\n",
              " 3: ',',\n",
              " 4: '-',\n",
              " 5: '.',\n",
              " 6: ';',\n",
              " 7: 'a',\n",
              " 8: 'b',\n",
              " 9: 'c',\n",
              " 10: 'd',\n",
              " 11: 'e',\n",
              " 12: 'f',\n",
              " 13: 'g',\n",
              " 14: 'h',\n",
              " 15: 'i',\n",
              " 16: 'k',\n",
              " 17: 'l',\n",
              " 18: 'm',\n",
              " 19: 'n',\n",
              " 20: 'o',\n",
              " 21: 'p',\n",
              " 22: 'q',\n",
              " 23: 'r',\n",
              " 24: 's',\n",
              " 25: 't',\n",
              " 26: 'u',\n",
              " 27: 'v',\n",
              " 28: 'w',\n",
              " 29: 'y'}"
            ]
          },
          "metadata": {
            "tags": []
          },
          "execution_count": 7
        }
      ]
    },
    {
      "cell_type": "code",
      "metadata": {
        "id": "gn7Kplz-C11e"
      },
      "source": [
        "#How many timesteps e.g how many characters we want to process in one go\n",
        "numberOfCharsToLearn = 100"
      ],
      "execution_count": 8,
      "outputs": []
    },
    {
      "cell_type": "code",
      "metadata": {
        "colab": {
          "base_uri": "https://localhost:8080/",
          "height": 0
        },
        "id": "RfD2D_wnC36r",
        "outputId": "4ad0cc63-902b-4847-849f-f7ab8832260a"
      },
      "source": [
        "CharsForids[\"o\"]"
      ],
      "execution_count": 9,
      "outputs": [
        {
          "output_type": "execute_result",
          "data": {
            "text/plain": [
              "20"
            ]
          },
          "metadata": {
            "tags": []
          },
          "execution_count": 9
        }
      ]
    },
    {
      "cell_type": "code",
      "metadata": {
        "id": "gEb1Z1bGDR2Z"
      },
      "source": [
        "#Input data\n",
        "charX = []\n",
        "#Output data\n",
        "y = []"
      ],
      "execution_count": 10,
      "outputs": []
    },
    {
      "cell_type": "code",
      "metadata": {
        "id": "c7YxkHGAD6PA"
      },
      "source": [
        "#Since our timestep sequence represetns a process for every 100 chars we omit\n",
        "#the first 100 chars so the loop runs a 100 less or there will be index out of\n",
        "#range\n",
        "counter = totalChars - numberOfCharsToLearn\n",
        "#This loops through all the characters in the data skipping the first 100\n",
        "for i in range(0, counter, 1):\n",
        "  #This one goes from 0-100 so it gets 100 values starting from 0 and stops\n",
        "  #just before the 100th value\n",
        "  theInputChars = data[i:i+numberOfCharsToLearn]\n",
        "  #With no ':' you start with 0, and so you get the actual 100th value\n",
        "  #Essentially, the output Chars is the next char in line for those 100 chars in charX\n",
        "  theOutputChars = data[i + numberOfCharsToLearn]\n",
        "  #Appends every 100 chars ids as a list into charX\n",
        "  charX.append([CharsForids[char] for char in theInputChars])\n",
        "  #For every 100 values there is one y value which is the output\n",
        "  y.append(CharsForids[theOutputChars])"
      ],
      "execution_count": 11,
      "outputs": []
    },
    {
      "cell_type": "markdown",
      "metadata": {
        "id": "zjMjI_ytEwnb"
      },
      "source": [
        "#To convert data into right format which can be fed to LSTM\n"
      ]
    },
    {
      "cell_type": "code",
      "metadata": {
        "id": "ZQbRNzgGEZCx"
      },
      "source": [
        "#Len(charX) represents how many of those time steps we have\n",
        "#The numberOfCharsToLearn is how many character we process\n",
        "#Our features are set to 1 because in the output we are only predicting 1 char\n",
        "X = np.reshape(charX, (len(charX), numberOfCharsToLearn, 1))\n"
      ],
      "execution_count": 12,
      "outputs": []
    },
    {
      "cell_type": "code",
      "metadata": {
        "colab": {
          "base_uri": "https://localhost:8080/",
          "height": 0
        },
        "id": "DvGNBOmeE8LT",
        "outputId": "c1722727-6d4c-4853-ebde-ecc24903f5b0"
      },
      "source": [
        "#This is done for normalization\n",
        "X = X/float(numberOfUniqueChars)\n",
        "#This sets it up for us so we can have a categorical(#feature) output format\n",
        "y = np_utils.to_categorical(y)\n",
        "print(y)"
      ],
      "execution_count": 13,
      "outputs": [
        {
          "output_type": "stream",
          "text": [
            "[[0. 0. 0. ... 0. 0. 0.]\n",
            " [0. 0. 0. ... 0. 0. 0.]\n",
            " [0. 1. 0. ... 0. 0. 0.]\n",
            " ...\n",
            " [0. 0. 0. ... 0. 0. 0.]\n",
            " [0. 0. 0. ... 0. 0. 0.]\n",
            " [0. 0. 0. ... 0. 0. 0.]]\n"
          ],
          "name": "stdout"
        }
      ]
    },
    {
      "cell_type": "markdown",
      "metadata": {
        "id": "XbqH2dH4FOYz"
      },
      "source": [
        "#Building LSTM Model"
      ]
    },
    {
      "cell_type": "code",
      "metadata": {
        "id": "VK4JiL2lE8kR"
      },
      "source": [
        "from keras.layers import Dropout\n",
        "\n",
        "# Initialising the RNN\n",
        "model = Sequential()\n",
        "\n",
        "model.add(LSTM(units = 50, return_sequences = True, input_shape = (X.shape[1], 1)))\n",
        "model.add(Dropout(0.2))\n",
        "\n",
        "# Adding a second LSTM layer and Dropout layer\n",
        "model.add(LSTM(units = 50, return_sequences = True))\n",
        "model.add(Dropout(0.2))\n",
        "\n",
        "# Adding a third LSTM layer and Dropout layer\n",
        "model.add(LSTM(units = 50, return_sequences = True))\n",
        "model.add(Dropout(0.2))\n",
        "\n",
        "# Adding a fourth LSTM layer and and Dropout layer\n",
        "model.add(LSTM(units = 50))\n",
        "model.add(Dropout(0.2))\n",
        "\n",
        "# Adding the output layer\n",
        "# For Full connection layer we use dense\n",
        "# As the output is 1D so we use unit=1\n",
        "model.add(Dense(units = 1))"
      ],
      "execution_count": 15,
      "outputs": []
    },
    {
      "cell_type": "code",
      "metadata": {
        "id": "aTlDvU6YFiMw",
        "colab": {
          "base_uri": "https://localhost:8080/",
          "height": 0
        },
        "outputId": "20d2d115-d351-48c2-cfb4-92a151a6f22c"
      },
      "source": [
        "#compile and fit the model on 30 epochs\n",
        "model.compile(optimizer = 'adam', loss = 'mean_squared_error')\n",
        "model.fit(X, y, epochs = 30, batch_size = 50)"
      ],
      "execution_count": 16,
      "outputs": [
        {
          "output_type": "stream",
          "text": [
            "Epoch 1/30\n",
            "36/36 [==============================] - 36s 21ms/step - loss: 0.0327\n",
            "Epoch 2/30\n",
            "36/36 [==============================] - 1s 15ms/step - loss: 0.0322\n",
            "Epoch 3/30\n",
            "36/36 [==============================] - 1s 16ms/step - loss: 0.0322\n",
            "Epoch 4/30\n",
            "36/36 [==============================] - 1s 15ms/step - loss: 0.0322\n",
            "Epoch 5/30\n",
            "36/36 [==============================] - 1s 16ms/step - loss: 0.0322\n",
            "Epoch 6/30\n",
            "36/36 [==============================] - 1s 16ms/step - loss: 0.0322\n",
            "Epoch 7/30\n",
            "36/36 [==============================] - 1s 16ms/step - loss: 0.0322\n",
            "Epoch 8/30\n",
            "36/36 [==============================] - 1s 16ms/step - loss: 0.0322\n",
            "Epoch 9/30\n",
            "36/36 [==============================] - 1s 16ms/step - loss: 0.0322\n",
            "Epoch 10/30\n",
            "36/36 [==============================] - 1s 16ms/step - loss: 0.0322\n",
            "Epoch 11/30\n",
            "36/36 [==============================] - 1s 15ms/step - loss: 0.0322\n",
            "Epoch 12/30\n",
            "36/36 [==============================] - 1s 16ms/step - loss: 0.0322\n",
            "Epoch 13/30\n",
            "36/36 [==============================] - 1s 16ms/step - loss: 0.0322\n",
            "Epoch 14/30\n",
            "36/36 [==============================] - 1s 16ms/step - loss: 0.0322\n",
            "Epoch 15/30\n",
            "36/36 [==============================] - 1s 16ms/step - loss: 0.0322\n",
            "Epoch 16/30\n",
            "36/36 [==============================] - 1s 16ms/step - loss: 0.0322\n",
            "Epoch 17/30\n",
            "36/36 [==============================] - 1s 16ms/step - loss: 0.0322\n",
            "Epoch 18/30\n",
            "36/36 [==============================] - 1s 16ms/step - loss: 0.0322\n",
            "Epoch 19/30\n",
            "36/36 [==============================] - 1s 16ms/step - loss: 0.0322\n",
            "Epoch 20/30\n",
            "36/36 [==============================] - 1s 16ms/step - loss: 0.0322\n",
            "Epoch 21/30\n",
            "36/36 [==============================] - 1s 16ms/step - loss: 0.0322\n",
            "Epoch 22/30\n",
            "36/36 [==============================] - 1s 16ms/step - loss: 0.0322\n",
            "Epoch 23/30\n",
            "36/36 [==============================] - 1s 16ms/step - loss: 0.0322\n",
            "Epoch 24/30\n",
            "36/36 [==============================] - 1s 16ms/step - loss: 0.0322\n",
            "Epoch 25/30\n",
            "36/36 [==============================] - 1s 16ms/step - loss: 0.0322\n",
            "Epoch 26/30\n",
            "36/36 [==============================] - 1s 16ms/step - loss: 0.0322\n",
            "Epoch 27/30\n",
            "36/36 [==============================] - 1s 16ms/step - loss: 0.0322\n",
            "Epoch 28/30\n",
            "36/36 [==============================] - 1s 16ms/step - loss: 0.0322\n",
            "Epoch 29/30\n",
            "36/36 [==============================] - 1s 15ms/step - loss: 0.0322\n",
            "Epoch 30/30\n",
            "36/36 [==============================] - 1s 16ms/step - loss: 0.0322\n"
          ],
          "name": "stdout"
        },
        {
          "output_type": "execute_result",
          "data": {
            "text/plain": [
              "<tensorflow.python.keras.callbacks.History at 0x7fa55803ea10>"
            ]
          },
          "metadata": {
            "tags": []
          },
          "execution_count": 16
        }
      ]
    },
    {
      "cell_type": "code",
      "metadata": {
        "id": "l4jzfh4RGQKQ"
      },
      "source": [
        ""
      ],
      "execution_count": 16,
      "outputs": []
    },
    {
      "cell_type": "markdown",
      "metadata": {
        "id": "P-xSSYi3Gt6-"
      },
      "source": [
        "#Code to generate new text"
      ]
    },
    {
      "cell_type": "code",
      "metadata": {
        "id": "_2uQkGkZGRHc",
        "colab": {
          "base_uri": "https://localhost:8080/",
          "height": 0
        },
        "outputId": "6f7958f5-5cff-4ea4-f0ce-2936cce30b9b"
      },
      "source": [
        "for i in range(500):\n",
        "  randomVal = np.random.randint(0, len(charX)-1)\n",
        "  randomStart = charX[randomVal]\n",
        "\n",
        "  x = np.reshape(randomStart, (1, len(randomStart), 1))\n",
        "  x = x/float(numberOfUniqueChars)\n",
        "  pred = model.predict(x)\n",
        "  index = np.argmax(pred)\n",
        "  randomStart.append(index)\n",
        "  randomStart = randomStart[1: len(randomStart)]"
      ],
      "execution_count": 17,
      "outputs": [
        {
          "output_type": "stream",
          "text": [
            "WARNING:tensorflow:Model was constructed with shape (None, 100, 1) for input KerasTensor(type_spec=TensorSpec(shape=(None, 100, 1), dtype=tf.float32, name='lstm_input'), name='lstm_input', description=\"created by layer 'lstm_input'\"), but it was called on an input with incompatible shape (None, 101, 1).\n"
          ],
          "name": "stdout"
        }
      ]
    },
    {
      "cell_type": "markdown",
      "metadata": {
        "id": "jbfDt4fRMMMw"
      },
      "source": [
        "#So our newly generated text is:\n",
        "\n",
        "\n"
      ]
    },
    {
      "cell_type": "code",
      "metadata": {
        "colab": {
          "base_uri": "https://localhost:8080/",
          "height": 0
        },
        "id": "mIYkpAmWHz8Z",
        "outputId": "5a0355aa-7840-4d09-e29f-0a1b655cf14b"
      },
      "source": [
        "print(\"\".join([idsForChars[value] for value in randomStart]))"
      ],
      "execution_count": 18,
      "outputs": [
        {
          "output_type": "stream",
          "text": [
            " i spake.\n",
            "she loved me for the dangers i had passed,\n",
            "and i loved her that she did pity them.\n",
            "this o\n",
            "\n"
          ],
          "name": "stdout"
        }
      ]
    },
    {
      "cell_type": "code",
      "metadata": {
        "id": "afSiPje8IH4_"
      },
      "source": [
        ""
      ],
      "execution_count": null,
      "outputs": []
    },
    {
      "cell_type": "code",
      "metadata": {
        "id": "aOQWr8z8IFqn"
      },
      "source": [
        ""
      ],
      "execution_count": null,
      "outputs": []
    }
  ]
}

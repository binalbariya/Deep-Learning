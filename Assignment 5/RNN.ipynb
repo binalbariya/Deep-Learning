{
  "nbformat": 4,
  "nbformat_minor": 0,
  "metadata": {
    "colab": {
      "name": "RNN.ipynb",
      "provenance": []
    },
    "kernelspec": {
      "display_name": "Python 3",
      "name": "python3"
    },
    "language_info": {
      "name": "python"
    },
    "accelerator": "GPU"
  },
  "cells": [
    {
      "cell_type": "markdown",
      "metadata": {
        "id": "BrLiyHnMK6gk"
      },
      "source": [
        "# Github Link: https://github.com/binalbariya/Deep-Learning/blob/main/Assignment%205/RNN.ipynb"
      ]
    },
    {
      "cell_type": "markdown",
      "metadata": {
        "id": "I4mAHzlKMcAx"
      },
      "source": [
        "#This is for implementing RNN using keras for Text Generation."
      ]
    },
    {
      "cell_type": "code",
      "metadata": {
        "id": "uURVuWqRK92n"
      },
      "source": [
        "# importing essential libraries\n",
        "import numpy as np\n",
        "from keras.models import Sequential\n",
        "from keras.layers import Dense\n",
        "from keras.layers import Dropout\n",
        "from keras.layers import LSTM\n",
        "from keras.utils import np_utils"
      ],
      "execution_count": 35,
      "outputs": []
    },
    {
      "cell_type": "markdown",
      "metadata": {
        "id": "WW2SdsstLch2"
      },
      "source": [
        "\n",
        "My input file will be a section of a play from the playwright genius Shakespeare. I will be using a monologue from Othello."
      ]
    },
    {
      "cell_type": "code",
      "metadata": {
        "id": "PDYJGOBKLQPW"
      },
      "source": [
        "#Firstly formatting the input_file so that it can be well understood by keras\n",
        "\n",
        "#Read the data, turn it into lower case\n",
        "data = open(\"input_file.txt\").read().lower()\n"
      ],
      "execution_count": 36,
      "outputs": []
    },
    {
      "cell_type": "code",
      "metadata": {
        "colab": {
          "base_uri": "https://localhost:8080/",
          "height": 0
        },
        "id": "Jvej6W2PLxUl",
        "outputId": "18f59b96-b458-4382-e25f-f9e8c7d29661"
      },
      "source": [
        "#This get the set of characters used in the data and sorts them\n",
        "chars = sorted(list(set(data)))\n",
        "chars"
      ],
      "execution_count": 37,
      "outputs": [
        {
          "output_type": "execute_result",
          "data": {
            "text/plain": [
              "['\\n',\n",
              " ' ',\n",
              " \"'\",\n",
              " ',',\n",
              " '-',\n",
              " '.',\n",
              " ';',\n",
              " 'a',\n",
              " 'b',\n",
              " 'c',\n",
              " 'd',\n",
              " 'e',\n",
              " 'f',\n",
              " 'g',\n",
              " 'h',\n",
              " 'i',\n",
              " 'k',\n",
              " 'l',\n",
              " 'm',\n",
              " 'n',\n",
              " 'o',\n",
              " 'p',\n",
              " 'q',\n",
              " 'r',\n",
              " 's',\n",
              " 't',\n",
              " 'u',\n",
              " 'v',\n",
              " 'w',\n",
              " 'y']"
            ]
          },
          "metadata": {
            "tags": []
          },
          "execution_count": 37
        }
      ]
    },
    {
      "cell_type": "code",
      "metadata": {
        "colab": {
          "base_uri": "https://localhost:8080/",
          "height": 0
        },
        "id": "mFamjcDsL895",
        "outputId": "7fd0f746-9597-493d-962b-5d5c0bf73d2f"
      },
      "source": [
        "#Total number of characters used in the data\n",
        "totalChars = len(data)\n",
        "totalChars"
      ],
      "execution_count": 38,
      "outputs": [
        {
          "output_type": "execute_result",
          "data": {
            "text/plain": [
              "1860"
            ]
          },
          "metadata": {
            "tags": []
          },
          "execution_count": 38
        }
      ]
    },
    {
      "cell_type": "code",
      "metadata": {
        "colab": {
          "base_uri": "https://localhost:8080/",
          "height": 0
        },
        "id": "pm9zsqknMAls",
        "outputId": "1a127dc1-9dad-4491-ad6c-03ee1f1b83a1"
      },
      "source": [
        "#Number of unique chars\n",
        "numberOfUniqueChars = len(chars)\n",
        "numberOfUniqueChars"
      ],
      "execution_count": 39,
      "outputs": [
        {
          "output_type": "execute_result",
          "data": {
            "text/plain": [
              "30"
            ]
          },
          "metadata": {
            "tags": []
          },
          "execution_count": 39
        }
      ]
    },
    {
      "cell_type": "markdown",
      "metadata": {
        "id": "KkB7UMJ2MWVY"
      },
      "source": [
        "create a dictionary of each character so it can be easily represented"
      ]
    },
    {
      "cell_type": "code",
      "metadata": {
        "colab": {
          "base_uri": "https://localhost:8080/",
          "height": 0
        },
        "id": "AePqvrbMMDFn",
        "outputId": "b92d62f7-8e35-4da1-b28c-33a94965a7be"
      },
      "source": [
        "#This allows for characters to be represented by numbers\n",
        "CharsForids = {char:Id for Id, char in enumerate(chars)}\n",
        "CharsForids"
      ],
      "execution_count": 40,
      "outputs": [
        {
          "output_type": "execute_result",
          "data": {
            "text/plain": [
              "{'\\n': 0,\n",
              " ' ': 1,\n",
              " \"'\": 2,\n",
              " ',': 3,\n",
              " '-': 4,\n",
              " '.': 5,\n",
              " ';': 6,\n",
              " 'a': 7,\n",
              " 'b': 8,\n",
              " 'c': 9,\n",
              " 'd': 10,\n",
              " 'e': 11,\n",
              " 'f': 12,\n",
              " 'g': 13,\n",
              " 'h': 14,\n",
              " 'i': 15,\n",
              " 'k': 16,\n",
              " 'l': 17,\n",
              " 'm': 18,\n",
              " 'n': 19,\n",
              " 'o': 20,\n",
              " 'p': 21,\n",
              " 'q': 22,\n",
              " 'r': 23,\n",
              " 's': 24,\n",
              " 't': 25,\n",
              " 'u': 26,\n",
              " 'v': 27,\n",
              " 'w': 28,\n",
              " 'y': 29}"
            ]
          },
          "metadata": {
            "tags": []
          },
          "execution_count": 40
        }
      ]
    },
    {
      "cell_type": "code",
      "metadata": {
        "colab": {
          "base_uri": "https://localhost:8080/",
          "height": 0
        },
        "id": "LXKAcdRd9i9f",
        "outputId": "f62d3b89-8916-43a6-ac20-6c8145d30fc1"
      },
      "source": [
        "#This is the opposite to the above\n",
        "idsForChars = {Id:char for Id, char in enumerate(chars)}\n",
        "idsForChars"
      ],
      "execution_count": 41,
      "outputs": [
        {
          "output_type": "execute_result",
          "data": {
            "text/plain": [
              "{0: '\\n',\n",
              " 1: ' ',\n",
              " 2: \"'\",\n",
              " 3: ',',\n",
              " 4: '-',\n",
              " 5: '.',\n",
              " 6: ';',\n",
              " 7: 'a',\n",
              " 8: 'b',\n",
              " 9: 'c',\n",
              " 10: 'd',\n",
              " 11: 'e',\n",
              " 12: 'f',\n",
              " 13: 'g',\n",
              " 14: 'h',\n",
              " 15: 'i',\n",
              " 16: 'k',\n",
              " 17: 'l',\n",
              " 18: 'm',\n",
              " 19: 'n',\n",
              " 20: 'o',\n",
              " 21: 'p',\n",
              " 22: 'q',\n",
              " 23: 'r',\n",
              " 24: 's',\n",
              " 25: 't',\n",
              " 26: 'u',\n",
              " 27: 'v',\n",
              " 28: 'w',\n",
              " 29: 'y'}"
            ]
          },
          "metadata": {
            "tags": []
          },
          "execution_count": 41
        }
      ]
    },
    {
      "cell_type": "code",
      "metadata": {
        "id": "gn7Kplz-C11e"
      },
      "source": [
        "#How many timesteps e.g how many characters we want to process in one go\n",
        "numberOfCharsToLearn = 100"
      ],
      "execution_count": 42,
      "outputs": []
    },
    {
      "cell_type": "code",
      "metadata": {
        "colab": {
          "base_uri": "https://localhost:8080/",
          "height": 0
        },
        "id": "RfD2D_wnC36r",
        "outputId": "8d94d456-7f8f-46e8-bebf-90ba143c211b"
      },
      "source": [
        "CharsForids[\"o\"]"
      ],
      "execution_count": 43,
      "outputs": [
        {
          "output_type": "execute_result",
          "data": {
            "text/plain": [
              "20"
            ]
          },
          "metadata": {
            "tags": []
          },
          "execution_count": 43
        }
      ]
    },
    {
      "cell_type": "code",
      "metadata": {
        "id": "gEb1Z1bGDR2Z"
      },
      "source": [
        "#Input data\n",
        "charX = []\n",
        "#Output data\n",
        "y = []"
      ],
      "execution_count": 44,
      "outputs": []
    },
    {
      "cell_type": "code",
      "metadata": {
        "id": "c7YxkHGAD6PA"
      },
      "source": [
        "#Since our timestep sequence represetns a process for every 100 chars we omit\n",
        "#the first 100 chars so the loop runs a 100 less or there will be index out of\n",
        "#range\n",
        "counter = totalChars - numberOfCharsToLearn\n",
        "#This loops through all the characters in the data skipping the first 100\n",
        "for i in range(0, counter, 1):\n",
        "  #This one goes from 0-100 so it gets 100 values starting from 0 and stops\n",
        "  #just before the 100th value\n",
        "  theInputChars = data[i:i+numberOfCharsToLearn]\n",
        "  #With no ':' you start with 0, and so you get the actual 100th value\n",
        "  #Essentially, the output Chars is the next char in line for those 100 chars in charX\n",
        "  theOutputChars = data[i + numberOfCharsToLearn]\n",
        "  #Appends every 100 chars ids as a list into charX\n",
        "  charX.append([CharsForids[char] for char in theInputChars])\n",
        "  #For every 100 values there is one y value which is the output\n",
        "  y.append(CharsForids[theOutputChars])"
      ],
      "execution_count": 45,
      "outputs": []
    },
    {
      "cell_type": "markdown",
      "metadata": {
        "id": "zjMjI_ytEwnb"
      },
      "source": [
        "#To convert data into right format which can be fed to RNN\n"
      ]
    },
    {
      "cell_type": "code",
      "metadata": {
        "id": "ZQbRNzgGEZCx"
      },
      "source": [
        "#Len(charX) represents how many of those time steps we have\n",
        "#The numberOfCharsToLearn is how many character we process\n",
        "#Our features are set to 1 because in the output we are only predicting 1 char\n",
        "X = np.reshape(charX, (len(charX), numberOfCharsToLearn, 1))\n"
      ],
      "execution_count": 46,
      "outputs": []
    },
    {
      "cell_type": "code",
      "metadata": {
        "colab": {
          "base_uri": "https://localhost:8080/",
          "height": 0
        },
        "id": "DvGNBOmeE8LT",
        "outputId": "e794c586-8272-41fc-c398-29e95e00e458"
      },
      "source": [
        "#This is done for normalization\n",
        "X = X/float(numberOfUniqueChars)\n",
        "#This sets it up for us so we can have a categorical(#feature) output format\n",
        "y = np_utils.to_categorical(y)\n",
        "print(y)"
      ],
      "execution_count": 47,
      "outputs": [
        {
          "output_type": "stream",
          "text": [
            "[[0. 0. 0. ... 0. 0. 0.]\n",
            " [0. 0. 0. ... 0. 0. 0.]\n",
            " [0. 1. 0. ... 0. 0. 0.]\n",
            " ...\n",
            " [0. 0. 0. ... 0. 0. 0.]\n",
            " [0. 0. 0. ... 0. 0. 0.]\n",
            " [0. 0. 0. ... 0. 0. 0.]]\n"
          ],
          "name": "stdout"
        }
      ]
    },
    {
      "cell_type": "markdown",
      "metadata": {
        "id": "XbqH2dH4FOYz"
      },
      "source": [
        "#Building RNN Model"
      ]
    },
    {
      "cell_type": "code",
      "metadata": {
        "id": "VK4JiL2lE8kR"
      },
      "source": [
        " model = Sequential()\n"
      ],
      "execution_count": 48,
      "outputs": []
    },
    {
      "cell_type": "code",
      "metadata": {
        "id": "aTlDvU6YFiMw"
      },
      "source": [
        "#Since we know the shape of our Data we can input the timestep and feature data\n",
        "#The number of timestep sequence are dealt with in the fit function\n",
        "model.add(LSTM(256, input_shape=(X.shape[1], X.shape[2])))\n",
        "model.add(Dropout(0.2))\n"
      ],
      "execution_count": 49,
      "outputs": []
    },
    {
      "cell_type": "code",
      "metadata": {
        "colab": {
          "base_uri": "https://localhost:8080/",
          "height": 0
        },
        "id": "l4jzfh4RGQKQ",
        "outputId": "7d3b00d5-b069-42e5-e8e6-2e25ca2d1df9"
      },
      "source": [
        "#number of features on the output\n",
        "model.add(Dense(y.shape[1], activation='softmax'))\n",
        "model.compile(loss='categorical_crossentropy', optimizer='adam')\n",
        "model.fit(X, y, epochs=50, batch_size=128)\n",
        "model.save_weights(\"Othello.hdf5\")\n",
        "#model.load_weights(\"Othello.hdf5\")"
      ],
      "execution_count": 50,
      "outputs": [
        {
          "output_type": "stream",
          "text": [
            "Epoch 1/50\n",
            "14/14 [==============================] - 2s 22ms/step - loss: 3.2764\n",
            "Epoch 2/50\n",
            "14/14 [==============================] - 0s 21ms/step - loss: 3.0094\n",
            "Epoch 3/50\n",
            "14/14 [==============================] - 0s 20ms/step - loss: 2.9824\n",
            "Epoch 4/50\n",
            "14/14 [==============================] - 0s 21ms/step - loss: 2.9896\n",
            "Epoch 5/50\n",
            "14/14 [==============================] - 0s 20ms/step - loss: 3.0184\n",
            "Epoch 6/50\n",
            "14/14 [==============================] - 0s 20ms/step - loss: 3.0109\n",
            "Epoch 7/50\n",
            "14/14 [==============================] - 0s 20ms/step - loss: 3.0050\n",
            "Epoch 8/50\n",
            "14/14 [==============================] - 0s 20ms/step - loss: 2.9855\n",
            "Epoch 9/50\n",
            "14/14 [==============================] - 0s 20ms/step - loss: 2.9962\n",
            "Epoch 10/50\n",
            "14/14 [==============================] - 0s 20ms/step - loss: 2.9975\n",
            "Epoch 11/50\n",
            "14/14 [==============================] - 0s 20ms/step - loss: 2.9603\n",
            "Epoch 12/50\n",
            "14/14 [==============================] - 0s 21ms/step - loss: 2.9644\n",
            "Epoch 13/50\n",
            "14/14 [==============================] - 0s 20ms/step - loss: 2.9625\n",
            "Epoch 14/50\n",
            "14/14 [==============================] - 0s 21ms/step - loss: 2.9934\n",
            "Epoch 15/50\n",
            "14/14 [==============================] - 0s 20ms/step - loss: 2.9896\n",
            "Epoch 16/50\n",
            "14/14 [==============================] - 0s 21ms/step - loss: 2.9915\n",
            "Epoch 17/50\n",
            "14/14 [==============================] - 0s 20ms/step - loss: 2.9853\n",
            "Epoch 18/50\n",
            "14/14 [==============================] - 0s 20ms/step - loss: 2.9786\n",
            "Epoch 19/50\n",
            "14/14 [==============================] - 0s 20ms/step - loss: 2.9855\n",
            "Epoch 20/50\n",
            "14/14 [==============================] - 0s 21ms/step - loss: 2.9725\n",
            "Epoch 21/50\n",
            "14/14 [==============================] - 0s 20ms/step - loss: 2.9859\n",
            "Epoch 22/50\n",
            "14/14 [==============================] - 0s 20ms/step - loss: 2.9728\n",
            "Epoch 23/50\n",
            "14/14 [==============================] - 0s 21ms/step - loss: 2.9724\n",
            "Epoch 24/50\n",
            "14/14 [==============================] - 0s 20ms/step - loss: 2.9849\n",
            "Epoch 25/50\n",
            "14/14 [==============================] - 0s 20ms/step - loss: 2.9853\n",
            "Epoch 26/50\n",
            "14/14 [==============================] - 0s 20ms/step - loss: 2.9957\n",
            "Epoch 27/50\n",
            "14/14 [==============================] - 0s 20ms/step - loss: 2.9782\n",
            "Epoch 28/50\n",
            "14/14 [==============================] - 0s 20ms/step - loss: 2.9466\n",
            "Epoch 29/50\n",
            "14/14 [==============================] - 0s 20ms/step - loss: 2.9873\n",
            "Epoch 30/50\n",
            "14/14 [==============================] - 0s 20ms/step - loss: 2.9842\n",
            "Epoch 31/50\n",
            "14/14 [==============================] - 0s 20ms/step - loss: 2.9633\n",
            "Epoch 32/50\n",
            "14/14 [==============================] - 0s 21ms/step - loss: 2.9332\n",
            "Epoch 33/50\n",
            "14/14 [==============================] - 0s 20ms/step - loss: 2.9575\n",
            "Epoch 34/50\n",
            "14/14 [==============================] - 0s 21ms/step - loss: 2.9160\n",
            "Epoch 35/50\n",
            "14/14 [==============================] - 0s 20ms/step - loss: 2.9807\n",
            "Epoch 36/50\n",
            "14/14 [==============================] - 0s 20ms/step - loss: 2.9312\n",
            "Epoch 37/50\n",
            "14/14 [==============================] - 0s 20ms/step - loss: 2.9230\n",
            "Epoch 38/50\n",
            "14/14 [==============================] - 0s 21ms/step - loss: 2.9103\n",
            "Epoch 39/50\n",
            "14/14 [==============================] - 0s 20ms/step - loss: 2.9131\n",
            "Epoch 40/50\n",
            "14/14 [==============================] - 0s 20ms/step - loss: 2.8855\n",
            "Epoch 41/50\n",
            "14/14 [==============================] - 0s 20ms/step - loss: 2.8953\n",
            "Epoch 42/50\n",
            "14/14 [==============================] - 0s 20ms/step - loss: 2.8759\n",
            "Epoch 43/50\n",
            "14/14 [==============================] - 0s 20ms/step - loss: 2.8767\n",
            "Epoch 44/50\n",
            "14/14 [==============================] - 0s 20ms/step - loss: 2.8906\n",
            "Epoch 45/50\n",
            "14/14 [==============================] - 0s 20ms/step - loss: 2.8888\n",
            "Epoch 46/50\n",
            "14/14 [==============================] - 0s 20ms/step - loss: 2.8833\n",
            "Epoch 47/50\n",
            "14/14 [==============================] - 0s 20ms/step - loss: 2.8987\n",
            "Epoch 48/50\n",
            "14/14 [==============================] - 0s 20ms/step - loss: 2.8876\n",
            "Epoch 49/50\n",
            "14/14 [==============================] - 0s 21ms/step - loss: 2.8751\n",
            "Epoch 50/50\n",
            "14/14 [==============================] - 0s 20ms/step - loss: 2.8264\n"
          ],
          "name": "stdout"
        }
      ]
    },
    {
      "cell_type": "markdown",
      "metadata": {
        "id": "P-xSSYi3Gt6-"
      },
      "source": [
        "#Code to generate new text"
      ]
    },
    {
      "cell_type": "code",
      "metadata": {
        "id": "_2uQkGkZGRHc"
      },
      "source": [
        "for i in range(500):\n",
        "  randomVal = np.random.randint(0, len(charX)-1)\n",
        "  randomStart = charX[randomVal]\n",
        "\n",
        "  x = np.reshape(randomStart, (1, len(randomStart), 1))\n",
        "  x = x/float(numberOfUniqueChars)\n",
        "  pred = model.predict(x)\n",
        "  index = np.argmax(pred)\n",
        "  randomStart.append(index)\n",
        "  randomStart = randomStart[1: len(randomStart)]"
      ],
      "execution_count": 57,
      "outputs": []
    },
    {
      "cell_type": "markdown",
      "metadata": {
        "id": "jbfDt4fRMMMw"
      },
      "source": [
        "#So our newly generated text is:\n",
        "\n",
        "\n"
      ]
    },
    {
      "cell_type": "code",
      "metadata": {
        "colab": {
          "base_uri": "https://localhost:8080/",
          "height": 0
        },
        "id": "mIYkpAmWHz8Z",
        "outputId": "bae751e5-c17f-42f6-c7cf-2a8770d6451b"
      },
      "source": [
        "print(\"\".join([idsForChars[value] for value in randomStart]))"
      ],
      "execution_count": 58,
      "outputs": [
        {
          "output_type": "stream",
          "text": [
            "hence;\n",
            "which ever she could with haste dispatch,\n",
            "she'd come again, and with a greedy ear\n",
            "devour up th\n"
          ],
          "name": "stdout"
        }
      ]
    },
    {
      "cell_type": "code",
      "metadata": {
        "id": "afSiPje8IH4_"
      },
      "source": [
        ""
      ],
      "execution_count": 52,
      "outputs": []
    },
    {
      "cell_type": "code",
      "metadata": {
        "id": "aOQWr8z8IFqn"
      },
      "source": [
        ""
      ],
      "execution_count": null,
      "outputs": []
    }
  ]
}
